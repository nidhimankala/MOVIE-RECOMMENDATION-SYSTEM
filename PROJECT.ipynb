{
  "nbformat": 4,
  "nbformat_minor": 0,
  "metadata": {
    "colab": {
      "name": "movierec.ipynb",
      "provenance": [],
      "collapsed_sections": []
    },
    "kernelspec": {
      "display_name": "Python 3",
      "name": "python3"
    },
    "language_info": {
      "name": "python"
    }
  },
  "cells": [
    {
      "cell_type": "markdown",
      "metadata": {
        "id": "dR0eVtLY4U57"
      },
      "source": [
        "\n",
        "**MOVIE RECOMMENDATION SYSTEM**\n",
        "\n"
      ]
    },
    {
      "cell_type": "code",
      "metadata": {
        "id": "RU1FeZKuhF7q"
      },
      "source": [
        "%load_ext rpy2.ipython"
      ],
      "execution_count": 1,
      "outputs": []
    },
    {
      "cell_type": "code",
      "metadata": {
        "id": "jYuQQQIihb9Q"
      },
      "source": [
        "%%R\n",
        "install.packages(\"reshape2\")\n",
        "install.packages(\"recommenderlab\")\n"
      ],
      "execution_count": null,
      "outputs": []
    },
    {
      "cell_type": "code",
      "metadata": {
        "id": "0cdb7sSoit-C"
      },
      "source": [
        "%%R\n",
        "install.packages(\"data.table\")\n",
        "install.packages(\"ggplot2\")"
      ],
      "execution_count": null,
      "outputs": []
    },
    {
      "cell_type": "code",
      "metadata": {
        "id": "5d3cS_H3jTwV"
      },
      "source": [
        "%%R\n",
        "#importing the necessary libraries\n",
        "library(recommenderlab)\n",
        "library(ggplot2)\n",
        "library(data.table)\n",
        "library(reshape2)"
      ],
      "execution_count": null,
      "outputs": []
    },
    {
      "cell_type": "code",
      "metadata": {
        "id": "Bg8xbHhHlxan"
      },
      "source": [
        "from google.colab import files\n",
        "\n",
        "\n",
        "uploaded = files.upload()\n"
      ],
      "execution_count": null,
      "outputs": []
    },
    {
      "cell_type": "code",
      "metadata": {
        "id": "D9XNEMNApRth"
      },
      "source": [
        "from google.colab import files\n",
        "\n",
        "\n",
        "uploaded = files.upload()"
      ],
      "execution_count": null,
      "outputs": []
    },
    {
      "cell_type": "code",
      "metadata": {
        "id": "ARq25SMSpIlU"
      },
      "source": [
        "%%R\n",
        "#reading the data \n",
        "movies <- read.csv(\"movies.csv\",stringsAsFactors=FALSE)\n"
      ],
      "execution_count": 7,
      "outputs": []
    },
    {
      "cell_type": "code",
      "metadata": {
        "id": "PRTbFtSGpfU5"
      },
      "source": [
        "%%R\n",
        "ratings <- read.csv(\"ratings.csv\")\n"
      ],
      "execution_count": 8,
      "outputs": []
    },
    {
      "cell_type": "code",
      "metadata": {
        "colab": {
          "base_uri": "https://localhost:8080/"
        },
        "id": "H7HGTAQ7RTnC",
        "outputId": "b74bfd65-0fa0-456b-ec9e-e4a1e4269d8a"
      },
      "source": [
        "%%R\n",
        "summary(movies)"
      ],
      "execution_count": 9,
      "outputs": [
        {
          "output_type": "stream",
          "text": [
            "    movieId          title              genres         \n",
            " Min.   :     1   Length:10329       Length:10329      \n",
            " 1st Qu.:  3240   Class :character   Class :character  \n",
            " Median :  7088   Mode  :character   Mode  :character  \n",
            " Mean   : 31924                                        \n",
            " 3rd Qu.: 59900                                        \n",
            " Max.   :149532                                        \n"
          ],
          "name": "stdout"
        }
      ]
    },
    {
      "cell_type": "code",
      "metadata": {
        "colab": {
          "base_uri": "https://localhost:8080/"
        },
        "id": "l8lpmbzRpqj5",
        "outputId": "5c664f97-98fe-431e-a3d3-f980751cebb0"
      },
      "source": [
        "%%R\n",
        "\n",
        "head(movies)"
      ],
      "execution_count": 10,
      "outputs": [
        {
          "output_type": "stream",
          "text": [
            "  movieId                              title\n",
            "1       1                   Toy Story (1995)\n",
            "2       2                     Jumanji (1995)\n",
            "3       3            Grumpier Old Men (1995)\n",
            "4       4           Waiting to Exhale (1995)\n",
            "5       5 Father of the Bride Part II (1995)\n",
            "6       6                        Heat (1995)\n",
            "                                       genres\n",
            "1 Adventure|Animation|Children|Comedy|Fantasy\n",
            "2                  Adventure|Children|Fantasy\n",
            "3                              Comedy|Romance\n",
            "4                        Comedy|Drama|Romance\n",
            "5                                      Comedy\n",
            "6                       Action|Crime|Thriller\n"
          ],
          "name": "stdout"
        }
      ]
    },
    {
      "cell_type": "code",
      "metadata": {
        "colab": {
          "base_uri": "https://localhost:8080/"
        },
        "id": "4SLA8MkgRZ-q",
        "outputId": "f28f7374-2c2a-498c-bc33-62931ecb3f71"
      },
      "source": [
        "%%R\n",
        "summary(ratings)"
      ],
      "execution_count": 11,
      "outputs": [
        {
          "output_type": "stream",
          "text": [
            "     userId         movieId           rating        timestamp        \n",
            " Min.   :  1.0   Min.   :     1   Min.   :0.500   Min.   :8.286e+08  \n",
            " 1st Qu.:192.0   1st Qu.:  1073   1st Qu.:3.000   1st Qu.:9.711e+08  \n",
            " Median :383.0   Median :  2497   Median :3.500   Median :1.115e+09  \n",
            " Mean   :364.9   Mean   : 13381   Mean   :3.517   Mean   :1.130e+09  \n",
            " 3rd Qu.:557.0   3rd Qu.:  5991   3rd Qu.:4.000   3rd Qu.:1.275e+09  \n",
            " Max.   :668.0   Max.   :149532   Max.   :5.000   Max.   :1.452e+09  \n"
          ],
          "name": "stdout"
        }
      ]
    },
    {
      "cell_type": "code",
      "metadata": {
        "colab": {
          "base_uri": "https://localhost:8080/"
        },
        "id": "kGxIV4NAp3bU",
        "outputId": "5ed0d62c-eb78-494d-8775-b3d8070c19ba"
      },
      "source": [
        "%%R\n",
        "head(ratings)"
      ],
      "execution_count": 12,
      "outputs": [
        {
          "output_type": "stream",
          "text": [
            "  userId movieId rating  timestamp\n",
            "1      1      16    4.0 1217897793\n",
            "2      1      24    1.5 1217895807\n",
            "3      1      32    4.0 1217896246\n",
            "4      1      47    4.0 1217896556\n",
            "5      1      50    4.0 1217896523\n",
            "6      1     110    4.0 1217896150\n"
          ],
          "name": "stdout"
        }
      ]
    },
    {
      "cell_type": "markdown",
      "metadata": {
        "id": "wHjI7RMq74H4"
      },
      "source": [
        "##Data pre-processing\n",
        "\n",
        "re-organize the information of movie genres in such a way that allows future users to search for the movies they like within specific genres"
      ]
    },
    {
      "cell_type": "code",
      "metadata": {
        "id": "NETAILwBqRWq"
      },
      "source": [
        "%%R\n",
        "#Extract a list of genres\n",
        "#encoding to create a matrix of corresponding genres for each movie.\n",
        "\n",
        "genres <- as.data.frame(movies$genres, stringsAsFactors=FALSE)\n",
        "genres2 <- as.data.frame(tstrsplit(genres[,1], '[|]', type.convert=TRUE), stringsAsFactors=FALSE)\n",
        "colnames(genres2) <- c(1:10)\n",
        "# we have 18 genres in total\n",
        "genre_list <- c(\"Action\", \"Adventure\", \"Animation\", \"Children\", \n",
        "                \"Comedy\", \"Crime\",\"Documentary\", \"Drama\", \"Fantasy\",\n",
        "                \"Film-Noir\", \"Horror\", \"Musical\", \"Mystery\",\"Romance\",\n",
        "                \"Sci-Fi\", \"Thriller\", \"War\", \"Western\")\n",
        "genre_matrix <- matrix(0,10330,18)\n",
        "genre_matrix[1,] <- genre_list"
      ],
      "execution_count": 13,
      "outputs": []
    },
    {
      "cell_type": "code",
      "metadata": {
        "id": "QXA7vXVZRsWN"
      },
      "source": [
        "%%R\n",
        "colnames(genre_matrix) <- genre_list\n",
        "#iterate through matrix\n",
        "for (i in 1:nrow(genres2)) {\n",
        "  for (c in 1:ncol(genres2)) {\n",
        "    genmat_col = which(genre_matrix[1,] == genres2[i,c])\n",
        "    genre_matrix[i+1,genmat_col] <- 1\n",
        "  }\n",
        "}\n",
        "genre_matrix2 <- as.data.frame(genre_matrix[-1,], stringsAsFactors=FALSE)\n",
        "for (c in 1:ncol(genre_matrix2)) {\n",
        "  genre_matrix2[,c] <- as.integer(genre_matrix2[,c])\n",
        "}\n"
      ],
      "execution_count": 14,
      "outputs": []
    },
    {
      "cell_type": "code",
      "metadata": {
        "colab": {
          "base_uri": "https://localhost:8080/"
        },
        "id": "WCbGdPqpSus5",
        "outputId": "643e2a54-fceb-4a29-e4d1-e87a5964ae98"
      },
      "source": [
        "%%R\n",
        "head(genre_matrix2)"
      ],
      "execution_count": 15,
      "outputs": [
        {
          "output_type": "stream",
          "text": [
            "  Action Adventure Animation Children Comedy Crime Documentary Drama Fantasy\n",
            "1      0         1         1        1      1     0           0     0       1\n",
            "2      0         1         0        1      0     0           0     0       1\n",
            "3      0         0         0        0      1     0           0     0       0\n",
            "4      0         0         0        0      1     0           0     1       0\n",
            "5      0         0         0        0      1     0           0     0       0\n",
            "6      1         0         0        0      0     1           0     0       0\n",
            "  Film-Noir Horror Musical Mystery Romance Sci-Fi Thriller War Western\n",
            "1         0      0       0       0       0      0        0   0       0\n",
            "2         0      0       0       0       0      0        0   0       0\n",
            "3         0      0       0       0       1      0        0   0       0\n",
            "4         0      0       0       0       1      0        0   0       0\n",
            "5         0      0       0       0       0      0        0   0       0\n",
            "6         0      0       0       0       0      0        1   0       0\n"
          ],
          "name": "stdout"
        }
      ]
    },
    {
      "cell_type": "code",
      "metadata": {
        "colab": {
          "base_uri": "https://localhost:8080/"
        },
        "id": "VuUaM7NEPnbc",
        "outputId": "3ba741bc-2ce5-46ea-9818-ea42da927b5e"
      },
      "source": [
        "%%R\n",
        "# Create a matrix to search for a movie by genre\n",
        "search_matrix <- cbind(movies[,1:2], genre_matrix2)\n",
        "head(search_matrix)"
      ],
      "execution_count": 16,
      "outputs": [
        {
          "output_type": "stream",
          "text": [
            "  movieId                              title Action Adventure Animation\n",
            "1       1                   Toy Story (1995)      0         1         1\n",
            "2       2                     Jumanji (1995)      0         1         0\n",
            "3       3            Grumpier Old Men (1995)      0         0         0\n",
            "4       4           Waiting to Exhale (1995)      0         0         0\n",
            "5       5 Father of the Bride Part II (1995)      0         0         0\n",
            "6       6                        Heat (1995)      1         0         0\n",
            "  Children Comedy Crime Documentary Drama Fantasy Film-Noir Horror Musical\n",
            "1        1      1     0           0     0       1         0      0       0\n",
            "2        1      0     0           0     0       1         0      0       0\n",
            "3        0      1     0           0     0       0         0      0       0\n",
            "4        0      1     0           0     1       0         0      0       0\n",
            "5        0      1     0           0     0       0         0      0       0\n",
            "6        0      0     1           0     0       0         0      0       0\n",
            "  Mystery Romance Sci-Fi Thriller War Western\n",
            "1       0       0      0        0   0       0\n",
            "2       0       0      0        0   0       0\n",
            "3       0       1      0        0   0       0\n",
            "4       0       1      0        0   0       0\n",
            "5       0       0      0        0   0       0\n",
            "6       0       0      0        1   0       0\n"
          ],
          "name": "stdout"
        }
      ]
    },
    {
      "cell_type": "code",
      "metadata": {
        "colab": {
          "base_uri": "https://localhost:8080/"
        },
        "id": "6VDUEdRSq6Qr",
        "outputId": "69c217bb-75b1-4319-b153-276197e181fd"
      },
      "source": [
        "%%R\n",
        "#Converting ratings matrix in a proper format\n",
        "ratingmat <- dcast(ratings, userId~movieId, value.var = \"rating\", na.rm=FALSE)\n",
        "ratingmat <- as.matrix(ratingmat[,-1])\n",
        "ratingmat <- as(ratingmat, \"realRatingMatrix\")\n",
        "ratingmat"
      ],
      "execution_count": 17,
      "outputs": [
        {
          "output_type": "stream",
          "text": [
            "668 x 10325 rating matrix of class ‘realRatingMatrix’ with 105339 ratings.\n"
          ],
          "name": "stdout"
        }
      ]
    },
    {
      "cell_type": "code",
      "metadata": {
        "colab": {
          "base_uri": "https://localhost:8080/"
        },
        "id": "9H9P4eMxrD-x",
        "outputId": "d487ab24-8996-440b-9062-b04aa891dcd8"
      },
      "source": [
        "%%R\n",
        "#Exploring Parameters of Recommendation Models\n",
        "recommender_models <- recommenderRegistry$get_entries(dataType = \"realRatingMatrix\")\n",
        "names(recommender_models)"
      ],
      "execution_count": 18,
      "outputs": [
        {
          "output_type": "stream",
          "text": [
            " [1] \"HYBRID_realRatingMatrix\"       \"ALS_realRatingMatrix\"         \n",
            " [3] \"ALS_implicit_realRatingMatrix\" \"IBCF_realRatingMatrix\"        \n",
            " [5] \"LIBMF_realRatingMatrix\"        \"POPULAR_realRatingMatrix\"     \n",
            " [7] \"RANDOM_realRatingMatrix\"       \"RERECOMMEND_realRatingMatrix\" \n",
            " [9] \"SVD_realRatingMatrix\"          \"SVDF_realRatingMatrix\"        \n",
            "[11] \"UBCF_realRatingMatrix\"        \n"
          ],
          "name": "stdout"
        }
      ]
    },
    {
      "cell_type": "code",
      "metadata": {
        "colab": {
          "base_uri": "https://localhost:8080/"
        },
        "id": "LHRp2l_ArHw-",
        "outputId": "f6da8fc1-ec59-4e9a-caef-31f1d25bfef9"
      },
      "source": [
        "%%R\n",
        "\n",
        "lapply(recommender_models, \"[[\", \"description\")\n"
      ],
      "execution_count": 26,
      "outputs": [
        {
          "output_type": "stream",
          "text": [
            "$HYBRID_realRatingMatrix\n",
            "[1] \"Hybrid recommender that aggegates several recommendation strategies using weighted averages.\"\n",
            "\n",
            "$ALS_realRatingMatrix\n",
            "[1] \"Recommender for explicit ratings based on latent factors, calculated by alternating least squares algorithm.\"\n",
            "\n",
            "$ALS_implicit_realRatingMatrix\n",
            "[1] \"Recommender for implicit data based on latent factors, calculated by alternating least squares algorithm.\"\n",
            "\n",
            "$IBCF_realRatingMatrix\n",
            "[1] \"Recommender based on item-based collaborative filtering.\"\n",
            "\n",
            "$LIBMF_realRatingMatrix\n",
            "[1] \"Matrix factorization with LIBMF via package recosystem (https://cran.r-project.org/web/packages/recosystem/vignettes/introduction.html).\"\n",
            "\n",
            "$POPULAR_realRatingMatrix\n",
            "[1] \"Recommender based on item popularity.\"\n",
            "\n",
            "$RANDOM_realRatingMatrix\n",
            "[1] \"Produce random recommendations (real ratings).\"\n",
            "\n",
            "$RERECOMMEND_realRatingMatrix\n",
            "[1] \"Re-recommends highly rated items (real ratings).\"\n",
            "\n",
            "$SVD_realRatingMatrix\n",
            "[1] \"Recommender based on SVD approximation with column-mean imputation.\"\n",
            "\n",
            "$SVDF_realRatingMatrix\n",
            "[1] \"Recommender based on Funk SVD with gradient descend (https://sifter.org/~simon/journal/20061211.html).\"\n",
            "\n",
            "$UBCF_realRatingMatrix\n",
            "[1] \"Recommender based on user-based collaborative filtering.\"\n",
            "\n"
          ],
          "name": "stdout"
        }
      ]
    },
    {
      "cell_type": "code",
      "metadata": {
        "colab": {
          "base_uri": "https://localhost:8080/"
        },
        "id": "2fMrnu_1UHo5",
        "outputId": "6901d95f-c92a-4531-d663-a201ebfa46fd"
      },
      "source": [
        "%%R\n",
        "recommender_models$IBCF_realRatingMatrix$parameters"
      ],
      "execution_count": 27,
      "outputs": [
        {
          "output_type": "stream",
          "text": [
            "$k\n",
            "[1] 30\n",
            "\n",
            "$method\n",
            "[1] \"Cosine\"\n",
            "\n",
            "$normalize\n",
            "[1] \"center\"\n",
            "\n",
            "$normalize_sim_matrix\n",
            "[1] FALSE\n",
            "\n",
            "$alpha\n",
            "[1] 0.5\n",
            "\n",
            "$na_as_zero\n",
            "[1] FALSE\n",
            "\n"
          ],
          "name": "stdout"
        }
      ]
    },
    {
      "cell_type": "code",
      "metadata": {
        "colab": {
          "base_uri": "https://localhost:8080/"
        },
        "id": "Xx9Amx8KUN3D",
        "outputId": "54d10ea9-84a7-4f98-f66b-523290a5b417"
      },
      "source": [
        "%%R\n",
        "recommender_models$UBCF_realRatingMatrix$parameters"
      ],
      "execution_count": 28,
      "outputs": [
        {
          "output_type": "stream",
          "text": [
            "$method\n",
            "[1] \"cosine\"\n",
            "\n",
            "$nn\n",
            "[1] 25\n",
            "\n",
            "$sample\n",
            "[1] FALSE\n",
            "\n",
            "$weighted\n",
            "[1] TRUE\n",
            "\n",
            "$normalize\n",
            "[1] \"center\"\n",
            "\n",
            "$min_matching_items\n",
            "[1] 0\n",
            "\n",
            "$min_predictive_items\n",
            "[1] 0\n",
            "\n"
          ],
          "name": "stdout"
        }
      ]
    },
    {
      "cell_type": "markdown",
      "metadata": {
        "id": "Y7QVOJnF-mJU"
      },
      "source": [
        "Exploring Similarity Data"
      ]
    },
    {
      "cell_type": "code",
      "metadata": {
        "colab": {
          "base_uri": "https://localhost:8080/"
        },
        "id": "0c9jQ5G7q78Q",
        "outputId": "dc609118-7cbc-4877-d846-f3dea366d82c"
      },
      "source": [
        "%%R\n",
        "#Collaborative filtering algorithms are based on measuring the similarity between users or between items. \n",
        "similarity_users <- similarity(ratingmat[1:12, ], \n",
        "                               method = \"cosine\", \n",
        "                               which = \"users\")\n",
        "as.matrix(similarity_users)"
      ],
      "execution_count": 29,
      "outputs": [
        {
          "output_type": "stream",
          "text": [
            "           1         2         3         4         5         6         7\n",
            "1  0.0000000 0.9760860 0.9641723 0.9914398 0.8359111 0.9918166 0.9677533\n",
            "2  0.9760860 0.0000000 0.9925732 0.9374253 1.0000000 1.0000000 0.9732709\n",
            "3  0.9641723 0.9925732 0.0000000 0.9888968 0.8414317 1.0000000 0.9171903\n",
            "4  0.9914398 0.9374253 0.9888968 0.0000000 0.7957734 1.0000000 0.9180299\n",
            "5  0.8359111 1.0000000 0.8414317 0.7957734 0.0000000 0.8915476 0.8687099\n",
            "6  0.9918166 1.0000000 1.0000000 1.0000000 0.8915476 0.0000000 0.9606265\n",
            "7  0.9677533 0.9732709 0.9171903 0.9180299 0.8687099 0.9606265 0.0000000\n",
            "8  0.9829068 0.9719133 0.9940390 0.9374253 0.9938837 1.0000000 0.9687383\n",
            "9  0.9637003 0.9610288 0.9544297 0.9493423 0.7340177 1.0000000 0.9564847\n",
            "10 0.9216354        NA 0.9312404        NA 1.0000000 0.9736163 1.0000000\n",
            "11 0.9804446 0.9517898 0.9647574 0.9659715 0.8865295 0.9712516 0.9675114\n",
            "12 0.9474403 1.0000000 1.0000000 1.0000000        NA        NA 0.8660565\n",
            "           8         9        10        11        12\n",
            "1  0.9829068 0.9637003 0.9216354 0.9804446 0.9474403\n",
            "2  0.9719133 0.9610288        NA 0.9517898 1.0000000\n",
            "3  0.9940390 0.9544297 0.9312404 0.9647574 1.0000000\n",
            "4  0.9374253 0.9493423        NA 0.9659715 1.0000000\n",
            "5  0.9938837 0.7340177 1.0000000 0.8865295        NA\n",
            "6  1.0000000 1.0000000 0.9736163 0.9712516        NA\n",
            "7  0.9687383 0.9564847 1.0000000 0.9675114 0.8660565\n",
            "8  0.0000000 0.9619281        NA 0.9521133 1.0000000\n",
            "9  0.9619281 0.0000000 0.9622504 0.9353862 0.9378044\n",
            "10        NA 0.9622504 0.0000000 1.0000000        NA\n",
            "11 0.9521133 0.9353862 1.0000000 0.0000000 0.9364318\n",
            "12 1.0000000 0.9378044        NA 0.9364318 0.0000000\n"
          ],
          "name": "stdout"
        }
      ]
    },
    {
      "cell_type": "code",
      "metadata": {
        "colab": {
          "base_uri": "https://localhost:8080/",
          "height": 497
        },
        "id": "JmbPztXYVRBm",
        "outputId": "b9119553-9bf7-4f6c-acdc-8b075ec54b26"
      },
      "source": [
        "%%R\n",
        "#each row and each column corresponds to a user, and each cell corresponds to the similarity between two users.\n",
        "image(as.matrix(similarity_users), main = \"User similarity\")"
      ],
      "execution_count": 30,
      "outputs": [
        {
          "output_type": "display_data",
          "data": {
            "image/png": "[encoded data removed]"
          },
          "metadata": {
            "tags": []
          }
        }
      ]
    },
    {
      "cell_type": "code",
      "metadata": {
        "colab": {
          "base_uri": "https://localhost:8080/"
        },
        "id": "KGlK9xUMtVGL",
        "outputId": "98fa35b5-5231-498d-9256-c7a6d616afc1"
      },
      "source": [
        "%%R\n",
        "similarity_items <- similarity(ratingmat[, 1:12], method =\n",
        "                                 \"cosine\", which = \"items\")\n",
        "as.matrix(similarity_items)"
      ],
      "execution_count": 31,
      "outputs": [
        {
          "output_type": "stream",
          "text": [
            "           1         2         3         4         5         6         7\n",
            "1  0.0000000 0.9669732 0.9559341 0.9101276 0.9531838 0.9611291 0.9609033\n",
            "2  0.9669732 0.0000000 0.9658757 0.9412416 0.9603386 0.9531442 0.9456375\n",
            "3  0.9559341 0.9658757 0.0000000 0.9864877 0.9658946 0.9502471 0.9614828\n",
            "4  0.9101276 0.9412416 0.9864877 0.0000000 0.9345030 0.9772545 0.9897595\n",
            "5  0.9531838 0.9603386 0.9658946 0.9345030 0.0000000 0.9491592 0.9743898\n",
            "6  0.9611291 0.9531442 0.9502471 0.9772545 0.9491592 0.0000000 0.9697378\n",
            "7  0.9609033 0.9456375 0.9614828 0.9897595 0.9743898 0.9697378 0.0000000\n",
            "8  0.9938837 1.0000000 0.9899495 1.0000000 0.9995121 1.0000000        NA\n",
            "9  0.8427010 0.9781386 0.8827704 1.0000000 0.9658814 0.9279429 0.8957936\n",
            "10 0.9786042 0.9675372 0.9726710 0.9365858 0.9649127 0.9799504 0.9713049\n",
            "11 0.9592915 0.9722052 0.9721035 0.9627784 0.9657816 0.9636291 0.9761076\n",
            "12 0.8996062 0.9526429 0.9257562 1.0000000 0.9684156 0.9295455 0.9402524\n",
            "           8         9        10        11        12\n",
            "1  0.9938837 0.8427010 0.9786042 0.9592915 0.8996062\n",
            "2  1.0000000 0.9781386 0.9675372 0.9722052 0.9526429\n",
            "3  0.9899495 0.8827704 0.9726710 0.9721035 0.9257562\n",
            "4  1.0000000 1.0000000 0.9365858 0.9627784 1.0000000\n",
            "5  0.9995121 0.9658814 0.9649127 0.9657816 0.9684156\n",
            "6  1.0000000 0.9279429 0.9799504 0.9636291 0.9295455\n",
            "7         NA 0.8957936 0.9713049 0.9761076 0.9402524\n",
            "8  0.0000000        NA 1.0000000        NA        NA\n",
            "9         NA 0.0000000 0.9745159 0.9471141 0.9480466\n",
            "10 1.0000000 0.9745159 0.0000000 0.9617189 0.9715241\n",
            "11        NA 0.9471141 0.9617189 0.0000000 0.9360905\n",
            "12        NA 0.9480466 0.9715241 0.9360905 0.0000000\n"
          ],
          "name": "stdout"
        }
      ]
    },
    {
      "cell_type": "code",
      "metadata": {
        "colab": {
          "base_uri": "https://localhost:8080/",
          "height": 497
        },
        "id": "uvA4Spm1U540",
        "outputId": "5a89795a-6884-468e-dabd-586e950be9d1"
      },
      "source": [
        "%%R\n",
        "#similarity between the first four movies\n",
        "image(as.matrix(similarity_items), main = \"Movies similarity\")"
      ],
      "execution_count": 32,
      "outputs": [
        {
          "output_type": "display_data",
          "data": {
            "image/png": "[encoded data removed]"
          },
          "metadata": {
            "tags": []
          }
        }
      ]
    },
    {
      "cell_type": "code",
      "metadata": {
        "colab": {
          "base_uri": "https://localhost:8080/"
        },
        "id": "LW19C-GavLSo",
        "outputId": "62a9eafc-57cb-4cb4-dda4-06715e932de0"
      },
      "source": [
        "%%R\n",
        "vector_ratings <- as.vector(ratingmat@data)\n",
        "unique(vector_ratings)"
      ],
      "execution_count": 33,
      "outputs": [
        {
          "output_type": "stream",
          "text": [
            " [1] 0.0 5.0 4.0 3.0 4.5 1.5 2.0 3.5 1.0 2.5 0.5\n"
          ],
          "name": "stdout"
        }
      ]
    },
    {
      "cell_type": "code",
      "metadata": {
        "colab": {
          "base_uri": "https://localhost:8080/"
        },
        "id": "AYNehMEcvXHM",
        "outputId": "7292d292-7527-4376-aca3-3444a7a50677"
      },
      "source": [
        "%%R\n",
        "table_ratings <- table(vector_ratings) # what is the count of each rating value\n",
        "table_ratings"
      ],
      "execution_count": 34,
      "outputs": [
        {
          "output_type": "stream",
          "text": [
            "vector_ratings\n",
            "      0     0.5       1     1.5       2     2.5       3     3.5       4     4.5 \n",
            "6791761    1198    3258    1567    7943    5484   21729   12237   28880    8187 \n",
            "      5 \n",
            "  14856 \n"
          ],
          "name": "stdout"
        }
      ]
    },
    {
      "cell_type": "code",
      "metadata": {
        "colab": {
          "base_uri": "https://localhost:8080/",
          "height": 497
        },
        "id": "flST7SxCvh9S",
        "outputId": "81c4f73d-67c0-41c9-d5de-09be46f23704"
      },
      "source": [
        "%%R \n",
        "#Distribution of the ratings and removing null values\n",
        "vector_ratings <- vector_ratings[vector_ratings != 0] # rating == 0 are NA values\n",
        "vector_ratings <- factor(vector_ratings)\n",
        "qplot(vector_ratings,xlab=\"Vector Ratings\",ylab=\"Count\",color=vector_ratings) + \n",
        "  ggtitle(\"Distribution of the ratings\")"
      ],
      "execution_count": 35,
      "outputs": [
        {
          "output_type": "display_data",
          "data": {
            "image/png": "[encoded data removed]"
          },
          "metadata": {
            "tags": []
          }
        }
      ]
    },
    {
      "cell_type": "code",
      "metadata": {
        "colab": {
          "base_uri": "https://localhost:8080/"
        },
        "id": "X5JN0u9Dvmoy",
        "outputId": "d22f9a3f-e5c8-43de-c09b-524027fc18fc"
      },
      "source": [
        "%%R\n",
        "#Number of views of the top movies\n",
        "views_per_movie <- colCounts(ratingmat)\n",
        "table_views <- data.frame(movie = names(views_per_movie),\n",
        "                          views = views_per_movie)\n",
        "table_views <- table_views[order(table_views$views, \n",
        "                                 decreasing = TRUE), ]\n",
        "table_views$title <- NA\n",
        "for (i in 1:10325){\n",
        "  table_views[i,3] <- as.character(subset(movies, \n",
        "                                          movies$movieId == table_views[i,1])$title)\n",
        "}\n",
        "table_views[1:6,]"
      ],
      "execution_count": 37,
      "outputs": [
        {
          "output_type": "stream",
          "text": [
            "    movie views                                     title\n",
            "296   296   325                       Pulp Fiction (1994)\n",
            "356   356   311                       Forrest Gump (1994)\n",
            "318   318   308          Shawshank Redemption, The (1994)\n",
            "480   480   294                      Jurassic Park (1993)\n",
            "593   593   290          Silence of the Lambs, The (1991)\n",
            "260   260   273 Star Wars: Episode IV - A New Hope (1977)\n"
          ],
          "name": "stdout"
        }
      ]
    },
    {
      "cell_type": "code",
      "metadata": {
        "colab": {
          "base_uri": "https://localhost:8080/",
          "height": 497
        },
        "id": "C1YYST3PwayB",
        "outputId": "732a2170-4bd6-4426-8daf-d30ac2ca37e4"
      },
      "source": [
        "%%R\n",
        "ggplot(table_views[1:6, ], aes(x = title, y = views)) +\n",
        "  geom_bar(stat=\"identity\",color=\"darkblue\") + \n",
        "  theme(axis.text.x = element_text(angle = 45, hjust = 1)) + \n",
        "  ggtitle(\"Number of views of the top movies\")"
      ],
      "execution_count": 38,
      "outputs": [
        {
          "output_type": "display_data",
          "data": {
            "image/png": "[encoded data removed]"
          },
          "metadata": {
            "tags": []
          }
        }
      ]
    },
    {
      "cell_type": "code",
      "metadata": {
        "colab": {
          "base_uri": "https://localhost:8080/",
          "height": 534
        },
        "id": "5viW94OowiXT",
        "outputId": "5d555e19-6811-4124-993f-938a3c9f9ca1"
      },
      "source": [
        "%%R\n",
        "#identifying the top-rated movies by computing the average rating of each of them\n",
        "average_ratings <- colMeans(ratingmat)\n",
        "qplot(average_ratings,xlab=\"Average Ratings\",ylab=\"Count\",color=average_ratings) + \n",
        "  stat_bin(binwidth = 0.1) +\n",
        "  ggtitle(\"Distribution of the average movie rating\")"
      ],
      "execution_count": 39,
      "outputs": [
        {
          "output_type": "stream",
          "text": [
            "R[write to console]: `stat_bin()` using `bins = 30`. Pick better value with `binwidth`.\n",
            "\n"
          ],
          "name": "stderr"
        },
        {
          "output_type": "display_data",
          "data": {
            "image/png": "[encoded data removed]"
          },
          "metadata": {
            "tags": []
          }
        }
      ]
    },
    {
      "cell_type": "code",
      "metadata": {
        "colab": {
          "base_uri": "https://localhost:8080/",
          "height": 534
        },
        "id": "UF_mZ2AVwwLP",
        "outputId": "fef2157b-d6cf-4629-a4fc-0043e11de2d4"
      },
      "source": [
        "%%R\n",
        "#subset of only relevant movies ie movies with view higher than 50\n",
        "average_ratings_relevant <- average_ratings[views_per_movie > 50] \n",
        "qplot(average_ratings_relevant,xlab=\"Average relevant Ratings\",ylab=\"Count\",color=average_ratings_relevant) + \n",
        "  stat_bin(binwidth = 0.1) +\n",
        "  ggtitle(paste(\"Distribution of the relevant average ratings\"))"
      ],
      "execution_count": 40,
      "outputs": [
        {
          "output_type": "stream",
          "text": [
            "R[write to console]: `stat_bin()` using `bins = 30`. Pick better value with `binwidth`.\n",
            "\n"
          ],
          "name": "stderr"
        },
        {
          "output_type": "display_data",
          "data": {
            "image/png": "[encoded data removed]"
          },
          "metadata": {
            "tags": []
          }
        }
      ]
    },
    {
      "cell_type": "markdown",
      "metadata": {
        "id": "4fzWoyYk_3LU"
      },
      "source": [
        "Heatmaps\n"
      ]
    },
    {
      "cell_type": "code",
      "metadata": {
        "colab": {
          "base_uri": "https://localhost:8080/",
          "height": 497
        },
        "id": "7kq0_sknw25_",
        "outputId": "c024395f-7e47-498c-ba01-04664e922b6b"
      },
      "source": [
        "%%R\n",
        "image(ratingmat, main = \"Heatmap of the rating matrix\")"
      ],
      "execution_count": 41,
      "outputs": [
        {
          "output_type": "display_data",
          "data": {
            "image/png": "[encoded data removed]"
          },
          "metadata": {
            "tags": []
          }
        }
      ]
    },
    {
      "cell_type": "code",
      "metadata": {
        "colab": {
          "base_uri": "https://localhost:8080/",
          "height": 497
        },
        "id": "nZhOR3mEw-7j",
        "outputId": "ada90aa7-0de4-49d1-8609-397dbe724042"
      },
      "source": [
        "%%R\n",
        "image(ratingmat[1:20, 1:25], main = \"Heatmap of the first 20 rows and 25 columns\")\n"
      ],
      "execution_count": 42,
      "outputs": [
        {
          "output_type": "display_data",
          "data": {
            "image/png": "[encoded data removed]"
          },
          "metadata": {
            "tags": []
          }
        }
      ]
    },
    {
      "cell_type": "code",
      "metadata": {
        "colab": {
          "base_uri": "https://localhost:8080/"
        },
        "id": "fc_V6DuYyI28",
        "outputId": "ac32fca0-f577-49f0-df67-8aea873a1dd6"
      },
      "source": [
        "%%R\n",
        "min_n_movies <- quantile(rowCounts(ratingmat), 0.99)\n",
        "min_n_users <- quantile(colCounts(ratingmat), 0.99)\n",
        "print(\"Minimum number of movies per user:\")\n",
        "min_n_movies\n",
        "print(\"Minimum number of users per movie:\")\n",
        "min_n_users\n"
      ],
      "execution_count": 43,
      "outputs": [
        {
          "output_type": "stream",
          "text": [
            "[1] \"Minimum number of movies per user:\"\n",
            "[1] \"Minimum number of users per movie:\"\n",
            "99% \n",
            "115 \n"
          ],
          "name": "stdout"
        }
      ]
    },
    {
      "cell_type": "code",
      "metadata": {
        "id": "nI2PXuuP1dLc",
        "colab": {
          "base_uri": "https://localhost:8080/",
          "height": 497
        },
        "outputId": "413e9f51-ce1e-4802-884c-0db17253b1e7"
      },
      "source": [
        "%%R\n",
        "image(ratingmat[rowCounts(ratingmat) > min_n_movies,\n",
        "                colCounts(ratingmat) > min_n_users], \n",
        "      main = \"Heatmap of the top users and movies\")"
      ],
      "execution_count": 44,
      "outputs": [
        {
          "output_type": "display_data",
          "data": {
            "image/png": "[encoded data removed]"
          },
          "metadata": {
            "tags": []
          }
        }
      ]
    },
    {
      "cell_type": "markdown",
      "metadata": {
        "id": "YLqW2MgXABGl"
      },
      "source": [
        "##Data preparation "
      ]
    },
    {
      "cell_type": "code",
      "metadata": {
        "id": "q9Ezgy751m4u",
        "colab": {
          "base_uri": "https://localhost:8080/"
        },
        "outputId": "37343751-a027-4613-d980-7601743dbe3e"
      },
      "source": [
        "%%R\n",
        "ratings_movies <- ratingmat[rowCounts(ratingmat) > 50,\n",
        "                            colCounts(ratingmat) > 50]\n",
        "ratings_movies"
      ],
      "execution_count": 45,
      "outputs": [
        {
          "output_type": "stream",
          "text": [
            "420 x 447 rating matrix of class ‘realRatingMatrix’ with 38341 ratings.\n"
          ],
          "name": "stdout"
        }
      ]
    },
    {
      "cell_type": "code",
      "metadata": {
        "id": "IRnTscip1pgr",
        "colab": {
          "base_uri": "https://localhost:8080/",
          "height": 497
        },
        "outputId": "b0ddf913-6aa0-4323-d88e-a2ad2c9ec335"
      },
      "source": [
        "%%R\n",
        "min_movies <- quantile(rowCounts(ratings_movies), 0.98)\n",
        "min_users <- quantile(colCounts(ratings_movies), 0.98)\n",
        "\n",
        "image(ratings_movies[rowCounts(ratings_movies) > min_movies,\n",
        "                     colCounts(ratings_movies) > min_users], \n",
        "      main = \"Heatmap of the top users and movies after data preparation\")"
      ],
      "execution_count": 46,
      "outputs": [
        {
          "output_type": "display_data",
          "data": {
            "image/png": "[encoded data removed]"
          },
          "metadata": {
            "tags": []
          }
        }
      ]
    },
    {
      "cell_type": "code",
      "metadata": {
        "id": "THAN-zwy1spQ",
        "colab": {
          "base_uri": "https://localhost:8080/",
          "height": 534
        },
        "outputId": "7be033a5-85ed-4bdd-fdec-1e85b56bd542"
      },
      "source": [
        "%%R\n",
        "average_ratings_per_user <- rowMeans(ratings_movies)\n",
        "\n",
        "qplot(average_ratings_per_user,xlab=\"Average Ratings per User\",ylab=\"Count\",color=average_ratings_per_user) + stat_bin(binwidth = 0.1) +\n",
        "  ggtitle(\"Distribution of the average rating per user\")"
      ],
      "execution_count": 47,
      "outputs": [
        {
          "output_type": "stream",
          "text": [
            "R[write to console]: `stat_bin()` using `bins = 30`. Pick better value with `binwidth`.\n",
            "\n"
          ],
          "name": "stderr"
        },
        {
          "output_type": "display_data",
          "data": {
            "image/png": "[encoded data removed]"
          },
          "metadata": {
            "tags": []
          }
        }
      ]
    },
    {
      "cell_type": "code",
      "metadata": {
        "id": "1ED85tGB1vT8",
        "colab": {
          "base_uri": "https://localhost:8080/"
        },
        "outputId": "d429c0a9-61a7-4759-9bc2-34106eee980b"
      },
      "source": [
        "%%R\n",
        "#Normalizing data(the average rating of each user is 0)\n",
        "ratings_movies_norm <- normalize(ratings_movies)\n",
        "sum(rowMeans(ratings_movies_norm) > 0.00001)\n"
      ],
      "execution_count": 48,
      "outputs": [
        {
          "output_type": "stream",
          "text": [
            "[1] 0\n"
          ],
          "name": "stdout"
        }
      ]
    },
    {
      "cell_type": "code",
      "metadata": {
        "id": "KDJnGR3G11Oc",
        "colab": {
          "base_uri": "https://localhost:8080/",
          "height": 497
        },
        "outputId": "8ed7655e-e5af-4fad-8ffc-a442c172d921"
      },
      "source": [
        "%%R\n",
        "image(ratings_movies_norm[rowCounts(ratings_movies_norm) > min_movies,\n",
        "                          colCounts(ratings_movies_norm) > min_users], \n",
        "      main = \"Heatmap of the top users and movies after normalization\")"
      ],
      "execution_count": 49,
      "outputs": [
        {
          "output_type": "display_data",
          "data": {
            "image/png": "[encoded data removed]"
          },
          "metadata": {
            "tags": []
          }
        }
      ]
    },
    {
      "cell_type": "code",
      "metadata": {
        "id": "atorvTFl13gN",
        "colab": {
          "base_uri": "https://localhost:8080/",
          "height": 497
        },
        "outputId": "08155631-554a-4d54-d97a-6ab6682e8f4e"
      },
      "source": [
        "%%R\n",
        "#Binarizing data(define a table containing only 0s and 1s)\n",
        "#1st option: define a matrix equal to 1 if the movie has been watched\n",
        "ratings_movies_watched <- binarize(ratings_movies, minRating = 1)\n",
        "min_movies_binary <- quantile(rowCounts(ratings_movies), 0.95)\n",
        "min_users_binary <- quantile(colCounts(ratings_movies), 0.95)\n",
        "image(ratings_movies_watched[rowCounts(ratings_movies) > min_movies_binary,\n",
        "                             colCounts(ratings_movies) > min_users_binary], \n",
        "      main = \"Heatmap of the top users and movies (option 1)\")"
      ],
      "execution_count": 50,
      "outputs": [
        {
          "output_type": "display_data",
          "data": {
            "image/png": "[encoded data removed]"
          },
          "metadata": {
            "tags": []
          }
        }
      ]
    },
    {
      "cell_type": "code",
      "metadata": {
        "id": "gf3Nb9BQ17Rr",
        "colab": {
          "base_uri": "https://localhost:8080/",
          "height": 497
        },
        "outputId": "e94cda50-69e3-464e-9c43-9e030bd420b0"
      },
      "source": [
        "%%R\n",
        "#2nd option: define a matrix equal to 1 if the cell has a rating above the threshold\n",
        "ratings_movies_good <- binarize(ratings_movies, minRating = 3)\n",
        "image(ratings_movies_good[rowCounts(ratings_movies) > min_movies_binary, \n",
        "                          colCounts(ratings_movies) > min_users_binary], \n",
        "      main = \"Heatmap of the top users and movies (option 2)\")\n"
      ],
      "execution_count": 51,
      "outputs": [
        {
          "output_type": "display_data",
          "data": {
            "image/png": "[encoded data removed]"
          },
          "metadata": {
            "tags": []
          }
        }
      ]
    },
    {
      "cell_type": "markdown",
      "metadata": {
        "id": "voS8hhassog9"
      },
      "source": [
        "##ITEM-based Collaborative Filtering Model"
      ]
    },
    {
      "cell_type": "code",
      "metadata": {
        "colab": {
          "base_uri": "https://localhost:8080/"
        },
        "id": "pNEMvei9ZDbs",
        "outputId": "590039bc-105f-489f-c96a-6534ee1a648f"
      },
      "source": [
        "%%R\n",
        "#training the data set for IBCF 80% as a training set and 20% as a test set\n",
        "which_train <- sample(x = c(TRUE, FALSE), \n",
        "                      size = nrow(ratings_movies),\n",
        "                      replace = TRUE, \n",
        "                      prob = c(0.8, 0.2))\n",
        "recc_data_train <- ratings_movies[which_train, ]\n",
        "recc_data_test <- ratings_movies[!which_train, ]\n",
        "\n",
        "#BUILDING THE RECOMMENDER MODEL using the default parameters of method = Cosine and k=30\n",
        "recommender_models <- recommenderRegistry$get_entries(dataType =\"realRatingMatrix\")\n",
        "recommender_models$IBCF_realRatingMatrix$parameters\n",
        "recc_model <- Recommender(data = recc_data_train, \n",
        "                          method = \"IBCF\",\n",
        "                          parameter = list(k = 30))\n",
        "recc_model\n",
        "class(recc_model)\n",
        "\n"
      ],
      "execution_count": 52,
      "outputs": [
        {
          "output_type": "stream",
          "text": [
            "[1] \"Recommender\"\n",
            "attr(,\"package\")\n",
            "[1] \"recommenderlab\"\n"
          ],
          "name": "stdout"
        }
      ]
    },
    {
      "cell_type": "code",
      "metadata": {
        "id": "7s-Ua94IlkgE",
        "colab": {
          "base_uri": "https://localhost:8080/",
          "height": 497
        },
        "outputId": "adc9a7ed-4dcd-4663-a796-bec8ad48aeff"
      },
      "source": [
        "%%R\n",
        "\n",
        "model_details <- getModel(recc_model)\n",
        "class(model_details$sim) # this contains a similarity matrix\n",
        "dim(model_details$sim)\n",
        "n_items_top <- 20\n",
        "#generating a heatmap of the first 20 rows and columns:\n",
        "image(model_details$sim[1:n_items_top, 1:n_items_top],\n",
        "      main = \"Heatmap of the first rows and columns\")"
      ],
      "execution_count": 53,
      "outputs": [
        {
          "output_type": "display_data",
          "data": {
            "image/png": "[encoded data removed]"
          },
          "metadata": {
            "tags": []
          }
        }
      ]
    },
    {
      "cell_type": "code",
      "metadata": {
        "colab": {
          "base_uri": "https://localhost:8080/",
          "height": 534
        },
        "id": "OTc5VvZ-kmcC",
        "outputId": "6646940c-4a42-43ed-a7d1-2d99f539a9ab"
      },
      "source": [
        "%%R\n",
        "#generating a bar plot of the distribution count \n",
        "row_sums <- rowSums(model_details$sim > 0)\n",
        "table(row_sums)\n",
        "col_sums <- colSums(model_details$sim > 0)\n",
        "qplot(col_sums, ylab=\"Count\") + stat_bin(binwidth = 1) + ggtitle(\"Distribution of the column count\")\n"
      ],
      "execution_count": 54,
      "outputs": [
        {
          "output_type": "stream",
          "text": [
            "R[write to console]: `stat_bin()` using `bins = 30`. Pick better value with `binwidth`.\n",
            "\n"
          ],
          "name": "stderr"
        },
        {
          "output_type": "display_data",
          "data": {
            "image/png": "[encoded data removed]"
          },
          "metadata": {
            "tags": []
          }
        }
      ]
    },
    {
      "cell_type": "code",
      "metadata": {
        "id": "DQi5epDmm-34",
        "colab": {
          "base_uri": "https://localhost:8080/"
        },
        "outputId": "01476276-54ba-4660-c4d5-d85cc4eb3499"
      },
      "source": [
        "%%R\n",
        "#applying the recommender system to the dataset \n",
        "n_recommended <- 10  #the number of items to recommend to each user\n",
        "recc_predicted <- predict(object = recc_model, \n",
        "                          newdata = recc_data_test, \n",
        "                          n = n_recommended)\n",
        "recc_predicted\n"
      ],
      "execution_count": 55,
      "outputs": [
        {
          "output_type": "stream",
          "text": [
            "Recommendations as ‘topNList’ with n = 10 for 88 users. \n"
          ],
          "name": "stdout"
        }
      ]
    },
    {
      "cell_type": "code",
      "metadata": {
        "id": "T3xUDB7noxr3",
        "colab": {
          "base_uri": "https://localhost:8080/"
        },
        "outputId": "de78abe6-50b5-4f60-ab85-8419e2bdf025"
      },
      "source": [
        "%%R\n",
        "#results of recommendation of the first user\n",
        "recc_user_1 <- recc_predicted@items[[1]] #recommendation for the first user\n",
        "movies_user_1 <- recc_predicted@itemLabels[recc_user_1]\n",
        "movies_user_2 <- movies_user_1\n",
        "for (i in 1:10){\n",
        "  movies_user_2[i] <- as.character(subset(movies, \n",
        "                                         movies$movieId == movies_user_1[i])$title)\n",
        "}\n",
        "movies_user_2"
      ],
      "execution_count": 56,
      "outputs": [
        {
          "output_type": "stream",
          "text": [
            " [1] \"Dead Man Walking (1995)\"                   \n",
            " [2] \"Seven (a.k.a. Se7en) (1995)\"               \n",
            " [3] \"Rumble in the Bronx (Hont faan kui) (1995)\"\n",
            " [4] \"Congo (1995)\"                              \n",
            " [5] \"French Kiss (1995)\"                        \n",
            " [6] \"Legends of the Fall (1994)\"                \n",
            " [7] \"Santa Clause, The (1994)\"                  \n",
            " [8] \"Flintstones, The (1994)\"                   \n",
            " [9] \"Four Weddings and a Funeral (1994)\"        \n",
            "[10] \"Much Ado About Nothing (1993)\"             \n"
          ],
          "name": "stdout"
        }
      ]
    },
    {
      "cell_type": "code",
      "metadata": {
        "id": "UW9L87aqo400",
        "colab": {
          "base_uri": "https://localhost:8080/"
        },
        "outputId": "5ae12c15-dfbf-4e81-c3a6-e709c4949dcb"
      },
      "source": [
        "%%R\n",
        "#recommendation of each user can be shown as a matrix\n",
        "recc_matrix <- sapply(recc_predicted@items, \n",
        "                      function(x){ as.integer(colnames(ratings_movies)[x]) }) # matrix with the recommendations for each user\n",
        "#dim(recc_matrix)\n",
        "recc_matrix[,1:4] #reccomendations for first 4 users (columns) and movieId values of recommended 10 movies (rows)"
      ],
      "execution_count": 57,
      "outputs": [
        {
          "output_type": "stream",
          "text": [
            "      [,1] [,2] [,3]  [,4]\n",
            " [1,]   36    7    1   648\n",
            " [2,]   47   44    2  1088\n",
            " [3,]  112   50    3 68358\n",
            " [4,]  160  161    5   539\n",
            " [5,]  236  266    6  5418\n",
            " [6,]  266  527    7   509\n",
            " [7,]  317  597   10  3753\n",
            " [8,]  355 1094   11   168\n",
            " [9,]  357 1097   17  1573\n",
            "[10,]  497 1199   21    16\n"
          ],
          "name": "stdout"
        }
      ]
    },
    {
      "cell_type": "code",
      "metadata": {
        "id": "yx_LYPBhpKBb",
        "colab": {
          "base_uri": "https://localhost:8080/",
          "height": 497
        },
        "outputId": "b778e82f-b975-4ca0-ed78-65fd3955d5a3"
      },
      "source": [
        "%%R\n",
        "#plot of the most recommended movies using IBCF\n",
        "number_of_items <- factor(table(recc_matrix))\n",
        "chart_title <- \"Distribution of the number of items for IBCF\"\n",
        "qplot(number_of_items,xlab=\"Number of Items\",ylab=\"Count\",color=number_of_items) + ggtitle(chart_title)\n"
      ],
      "execution_count": 58,
      "outputs": [
        {
          "output_type": "display_data",
          "data": {
            "image/png": "[encoded data removed]"
          },
          "metadata": {
            "tags": []
          }
        }
      ]
    },
    {
      "cell_type": "code",
      "metadata": {
        "id": "mttaaLwyrruO",
        "colab": {
          "base_uri": "https://localhost:8080/"
        },
        "outputId": "c9a53b64-b770-4fd9-8f0a-1477d203b6f7"
      },
      "source": [
        "%%R\n",
        "#Number of recommended how many number of times (top 4)\n",
        "number_of_items_sorted <- sort(number_of_items, decreasing = TRUE)\n",
        "number_of_items_top <- head(number_of_items_sorted, n = 4)\n",
        "table_top <- data.frame(as.integer(names(number_of_items_top)),\n",
        "                       number_of_items_top)\n",
        "for (i in 1:4){\n",
        "  table_top[i,1] <- as.character(subset(movies, \n",
        "                                         movies$movieId == table_top[i,1])$title)\n",
        "}\n",
        "colnames(table_top) <- c(\"Movie title\", \"No of items\")\n",
        "head(table_top)"
      ],
      "execution_count": 59,
      "outputs": [
        {
          "output_type": "stream",
          "text": [
            "                     Movie title No of items\n",
            "3        Grumpier Old Men (1995)          12\n",
            "17  Sense and Sensibility (1995)          12\n",
            "7                 Sabrina (1995)          11\n",
            "151               Rob Roy (1995)          10\n"
          ],
          "name": "stdout"
        }
      ]
    },
    {
      "cell_type": "markdown",
      "metadata": {
        "id": "X-zReriJs3TD"
      },
      "source": [
        "##USER BASED COLLABORATIVE FILTERING MODEL "
      ]
    },
    {
      "cell_type": "code",
      "metadata": {
        "id": "PtG-WFapt7vN",
        "colab": {
          "base_uri": "https://localhost:8080/"
        },
        "outputId": "e47ef78a-2018-4089-d680-5cfb275cef72"
      },
      "source": [
        "%%R\n",
        "#USER BASED COLLABORATIVE FILTERING MODEL \n",
        "recommender_models <- recommenderRegistry$get_entries(dataType =\"realRatingMatrix\")\n",
        "recommender_models$UBCF_realRatingMatrix$parameters\n",
        "recc_model <- Recommender(data = recc_data_train, method = \"UBCF\")\n",
        "recc_model\n",
        "model_details <- getModel(recc_model)\n",
        "#names(model_details)\n",
        "model_details$data\n"
      ],
      "execution_count": 60,
      "outputs": [
        {
          "output_type": "stream",
          "text": [
            "332 x 447 rating matrix of class ‘realRatingMatrix’ with 29528 ratings.\n",
            "Normalized using center on rows.\n"
          ],
          "name": "stdout"
        }
      ]
    },
    {
      "cell_type": "code",
      "metadata": {
        "id": "cAxzEeZOun0P",
        "colab": {
          "base_uri": "https://localhost:8080/"
        },
        "outputId": "037e703d-bade-4f67-a5fc-f225788259be"
      },
      "source": [
        "%%R \n",
        "n_recommended <- 10\n",
        "recc_predicted <- predict(object = recc_model,\n",
        "                          newdata = recc_data_test, \n",
        "                          n = n_recommended) \n",
        "recc_predicted\n"
      ],
      "execution_count": 61,
      "outputs": [
        {
          "output_type": "stream",
          "text": [
            "Recommendations as ‘topNList’ with n = 10 for 88 users. \n"
          ],
          "name": "stdout"
        }
      ]
    },
    {
      "cell_type": "code",
      "metadata": {
        "id": "t5_Aj7W6vkPc",
        "colab": {
          "base_uri": "https://localhost:8080/"
        },
        "outputId": "dbcb8dd3-7f2c-4c2a-cd16-3ae2d0c88f38"
      },
      "source": [
        "%%R\n",
        "#exploring results of the first four results \n",
        "recc_matrix <- sapply(recc_predicted@items, \n",
        "                      function(x){ as.integer(colnames(ratings_movies)[x]) })\n",
        "#dim(recc_matrix)\n",
        "recc_matrix[, 1:4]"
      ],
      "execution_count": 62,
      "outputs": [
        {
          "output_type": "stream",
          "text": [
            "      [,1] [,2]  [,3] [,4]\n",
            " [1,] 1784 1276  5010 1213\n",
            " [2,]  805  339  2916 2997\n",
            " [3,] 2167  357 33493 1396\n",
            " [4,] 2396 1247 51662 1673\n",
            " [5,]  778 2078  1201   39\n",
            " [6,] 1136  587  3996 1252\n",
            " [7,]   50  953   260 4720\n",
            " [8,] 1479 1396   163 2268\n",
            " [9,] 2278 1673  2617 1250\n",
            "[10,] 5010 2406  1275 4027\n"
          ],
          "name": "stdout"
        }
      ]
    },
    {
      "cell_type": "code",
      "metadata": {
        "id": "cpxOXtBywbVM",
        "colab": {
          "base_uri": "https://localhost:8080/",
          "height": 497
        },
        "outputId": "3f98e546-0591-4550-ab7d-716e867495a5"
      },
      "source": [
        "%%R\n",
        "number_of_items <- factor(table(recc_matrix))\n",
        "chart_title <- \"Distribution of the number of items for UBCF\"\n",
        "qplot(number_of_items,xlab=\"Number of Items\",ylab=\"Count\",color=number_of_items) + ggtitle(chart_title)"
      ],
      "execution_count": 63,
      "outputs": [
        {
          "output_type": "display_data",
          "data": {
            "image/png": "[encoded data removed]"
          },
          "metadata": {
            "tags": []
          }
        }
      ]
    },
    {
      "cell_type": "code",
      "metadata": {
        "id": "8JxztepAAoHg",
        "colab": {
          "base_uri": "https://localhost:8080/"
        },
        "outputId": "e7f472ef-af92-4b98-c816-453c807c29c9"
      },
      "source": [
        "%%R\n",
        "#the following is the matrix for top titles\n",
        "number_of_items_sorted <- sort(number_of_items, decreasing = TRUE)\n",
        "number_of_items_top <- head(number_of_items_sorted, n = 4)\n",
        "table_top <- data.frame(as.integer(names(number_of_items_top)), number_of_items_top)\n",
        "for (i in 1:4){\n",
        "  table_top[i,1] <- as.character(subset(movies, \n",
        "                                         movies$movieId == table_top[i,1])$title)\n",
        "}\n",
        "colnames(table_top) <- c(\"Movie title\", \"No of items\")\n",
        "head(table_top)"
      ],
      "execution_count": 64,
      "outputs": [
        {
          "output_type": "stream",
          "text": [
            "                      Movie title No of items\n",
            "2268       Few Good Men, A (1992)          25\n",
            "5669 Bowling for Columbine (2002)          22\n",
            "920     Gone with the Wind (1939)          18\n",
            "1584               Contact (1997)          18\n"
          ],
          "name": "stdout"
        }
      ]
    },
    {
      "cell_type": "markdown",
      "metadata": {
        "id": "6YwskdUGPo6-"
      },
      "source": [
        "##EVALUATING AND COMPARING THE MODELS"
      ]
    },
    {
      "cell_type": "code",
      "metadata": {
        "id": "ba0yg-lmA8Ed",
        "colab": {
          "base_uri": "https://localhost:8080/"
        },
        "outputId": "3f7c5118-8717-4334-9866-4c8755d64a40"
      },
      "source": [
        "%%R\n",
        "#Evaluating the recommender system\n",
        "#1.Splitting the data\n",
        "percentage_training <- 0.8\n",
        "min(rowCounts(ratings_movies)) \n",
        "items_to_keep <- 5 #number of items to generate recommendations\n",
        "rating_threshold <- 3 # threshold with the minimum rating that is considered good\n",
        "n_eval <- 1 #number of times to run evaluation\n",
        "eval_sets <- evaluationScheme(data = ratings_movies, \n",
        "                              method = \"split\",\n",
        "                              train = percentage_training, \n",
        "                              given = items_to_keep, \n",
        "                              goodRating = rating_threshold, \n",
        "                              k = n_eval) \n",
        "eval_sets\n",
        "getData(eval_sets, \"train\") # training set\n",
        "\n",
        "\n"
      ],
      "execution_count": 65,
      "outputs": [
        {
          "output_type": "stream",
          "text": [
            "336 x 447 rating matrix of class ‘realRatingMatrix’ with 30626 ratings.\n"
          ],
          "name": "stdout"
        }
      ]
    },
    {
      "cell_type": "code",
      "metadata": {
        "id": "gcM0iJgCju5D",
        "colab": {
          "base_uri": "https://localhost:8080/"
        },
        "outputId": "a8ca3758-c7ce-4596-9655-9d9b05ad6926"
      },
      "source": [
        "%%R\n",
        "getData(eval_sets, \"known\") # set with the items used to build the recommendations"
      ],
      "execution_count": 66,
      "outputs": [
        {
          "output_type": "stream",
          "text": [
            "84 x 447 rating matrix of class ‘realRatingMatrix’ with 420 ratings.\n"
          ],
          "name": "stdout"
        }
      ]
    },
    {
      "cell_type": "code",
      "metadata": {
        "id": "epE5cTIQj1IY",
        "colab": {
          "base_uri": "https://localhost:8080/"
        },
        "outputId": "9ca71d36-8594-40d3-cae6-b2a4fdb68246"
      },
      "source": [
        "%%R\n",
        "getData(eval_sets, \"unknown\") # set with the items used to test the recommendations"
      ],
      "execution_count": 67,
      "outputs": [
        {
          "output_type": "stream",
          "text": [
            "84 x 447 rating matrix of class ‘realRatingMatrix’ with 7295 ratings.\n"
          ],
          "name": "stdout"
        }
      ]
    },
    {
      "cell_type": "code",
      "metadata": {
        "id": "o1VihNtrjNhg",
        "colab": {
          "base_uri": "https://localhost:8080/",
          "height": 534
        },
        "outputId": "6d67c809-12e6-4c37-97ac-b647fba2d101"
      },
      "source": [
        "%%R\n",
        "#a plot for unknown items by the user \n",
        "qplot(rowCounts(getData(eval_sets, \"unknown\")),xlab=\"Row Counts\", ylab=\"Count\") + \n",
        "  geom_histogram(binwidth = 10) + \n",
        "  ggtitle(\"Unknown items by the users\")\n"
      ],
      "execution_count": 68,
      "outputs": [
        {
          "output_type": "stream",
          "text": [
            "R[write to console]: `stat_bin()` using `bins = 30`. Pick better value with `binwidth`.\n",
            "\n"
          ],
          "name": "stderr"
        },
        {
          "output_type": "display_data",
          "data": {
            "image/png": "[encoded data removed]"
          },
          "metadata": {
            "tags": []
          }
        }
      ]
    },
    {
      "cell_type": "code",
      "metadata": {
        "id": "UxGrhjn9joM-"
      },
      "source": [
        "%%R\n",
        "#Bootstrapping the data \n",
        "eval_sets <- evaluationScheme(data = ratings_movies, \n",
        "                              method = \"bootstrap\", \n",
        "                              train = percentage_training, \n",
        "                              given = items_to_keep,\n",
        "                              goodRating = rating_threshold, \n",
        "                              k = n_eval)\n",
        "table_train <- table(eval_sets@runsTrain[[1]])\n",
        "n_repetitions <- factor(as.vector(table_train))\n"
      ],
      "execution_count": 69,
      "outputs": []
    },
    {
      "cell_type": "code",
      "metadata": {
        "id": "S9UEwx2WlpMc",
        "colab": {
          "base_uri": "https://localhost:8080/",
          "height": 497
        },
        "outputId": "7ad3a685-8e40-4485-81c7-b6fc94967290"
      },
      "source": [
        "%%R\n",
        "#most of the users have been sampled fewer than four times.\n",
        "qplot(n_repetitions,xlab=\"Number of repetitions\",ylab=\"Count\",color=n_repetitions) + \n",
        "ggtitle(\"Number of repetitions in the training set\")"
      ],
      "execution_count": 70,
      "outputs": [
        {
          "output_type": "display_data",
          "data": {
            "image/png": "[encoded data removed]"
          },
          "metadata": {
            "tags": []
          }
        }
      ]
    },
    {
      "cell_type": "code",
      "metadata": {
        "id": "RTN80yarny5f",
        "colab": {
          "base_uri": "https://localhost:8080/"
        },
        "outputId": "de4ebe99-c1e4-4c7d-cc4d-a59800f2fd58"
      },
      "source": [
        "%%R\n",
        "#using cross validation to validate the models\n",
        "n_fold <- 4\n",
        "eval_sets <- evaluationScheme(data = ratings_movies, \n",
        "                              method = \"cross-validation\",\n",
        "                              k = n_fold, \n",
        "                              given = items_to_keep, \n",
        "                              goodRating = rating_threshold)\n",
        "size_sets <- sapply(eval_sets@runsTrain, length)\n",
        "size_sets"
      ],
      "execution_count": 71,
      "outputs": [
        {
          "output_type": "stream",
          "text": [
            "[1] 315 315 315 315\n"
          ],
          "name": "stdout"
        }
      ]
    },
    {
      "cell_type": "code",
      "metadata": {
        "id": "K-OmGCLeoYm1"
      },
      "source": [
        "%%R\n",
        "#evaluating the ratings using k-fold approach\n",
        "eval_sets <- evaluationScheme(data = ratings_movies, \n",
        "                              method = \"cross-validation\",\n",
        "                              k = n_fold, \n",
        "                              given = items_to_keep, \n",
        "                              goodRating = rating_threshold)\n",
        "model_to_evaluate <- \"IBCF\"\n",
        "model_parameters <- NULL\n",
        "eval_recommender <- Recommender(data = getData(eval_sets, \"train\"),\n",
        "                                method = model_to_evaluate, \n",
        "                                parameter = model_parameters)\n",
        "items_to_recommend <- 10\n",
        "eval_prediction <- predict(object = eval_recommender, \n",
        "                           newdata = getData(eval_sets, \"known\"), \n",
        "                           n = items_to_recommend, \n",
        "                           type = \"ratings\")"
      ],
      "execution_count": 72,
      "outputs": []
    },
    {
      "cell_type": "code",
      "metadata": {
        "id": "ijTcr-gZpjI9",
        "colab": {
          "base_uri": "https://localhost:8080/",
          "height": 534
        },
        "outputId": "65561c23-5400-4fa2-e736-c129c94f2d93"
      },
      "source": [
        "%%R\n",
        "#plot for the distribution of movies per user in the matrix of predicted ratings.\n",
        "qplot(rowCounts(eval_prediction),xlab=\"Number of movies\",ylab=\"Number of users\") + \n",
        "  geom_histogram(binwidth = 10) +\n",
        "  ggtitle(\"Distribution of movies per user\")"
      ],
      "execution_count": 73,
      "outputs": [
        {
          "output_type": "stream",
          "text": [
            "R[write to console]: `stat_bin()` using `bins = 30`. Pick better value with `binwidth`.\n",
            "\n"
          ],
          "name": "stderr"
        },
        {
          "output_type": "display_data",
          "data": {
            "image/png": "[encoded data removed]"
          },
          "metadata": {
            "tags": []
          }
        }
      ]
    },
    {
      "cell_type": "code",
      "metadata": {
        "id": "KyULW-vXpzA4",
        "colab": {
          "base_uri": "https://localhost:8080/"
        },
        "outputId": "b5585f83-e21a-4d18-ad86-cb1c2cd503e1"
      },
      "source": [
        "%%R\n",
        "#computing accuracy measures for each user using root mean square error \n",
        "eval_accuracy <- calcPredictionAccuracy(x = eval_prediction, \n",
        "                                        data = getData(eval_sets, \"unknown\"), \n",
        "                                        byUser = TRUE)\n",
        "head(eval_accuracy)"
      ],
      "execution_count": 74,
      "outputs": [
        {
          "output_type": "stream",
          "text": [
            "          RMSE       MSE       MAE\n",
            "[1,] 1.0000000 1.0000000 0.6000000\n",
            "[2,] 1.7099981 2.9240936 1.5779358\n",
            "[3,] 0.7071068 0.5000000 0.6666667\n",
            "[4,] 0.0000000 0.0000000 0.0000000\n",
            "[5,] 1.0000000 1.0000000 0.7333333\n",
            "[6,] 0.5958727 0.3550643 0.5318255\n"
          ],
          "name": "stdout"
        }
      ]
    },
    {
      "cell_type": "code",
      "metadata": {
        "id": "K0ekHDZdq1vt",
        "colab": {
          "base_uri": "https://localhost:8080/",
          "height": 534
        },
        "outputId": "3d9011f7-a6aa-4307-ce73-e603afd9f060"
      },
      "source": [
        "%%R\n",
        "#distribution plot of RMSE plot\n",
        "qplot(eval_accuracy[, \"RMSE\"],xlab=\"Distribution of RMSE\",ylab=\"Number of users\") + \n",
        "geom_histogram(binwidth = 0.1) +\n",
        "ggtitle(\"Distribution of the RMSE by user\")"
      ],
      "execution_count": 75,
      "outputs": [
        {
          "output_type": "stream",
          "text": [
            "R[write to console]: `stat_bin()` using `bins = 30`. Pick better value with `binwidth`.\n",
            "\n"
          ],
          "name": "stderr"
        },
        {
          "output_type": "display_data",
          "data": {
            "image/png": "[encoded data removed]"
          },
          "metadata": {
            "tags": []
          }
        }
      ]
    },
    {
      "cell_type": "code",
      "metadata": {
        "id": "PXko8xfdrKmi",
        "colab": {
          "base_uri": "https://localhost:8080/"
        },
        "outputId": "39a892c4-97dc-4559-dda3-51c4585f53bf"
      },
      "source": [
        "%%R\n",
        "#performance index of the model\n",
        "eval_accuracy <- calcPredictionAccuracy(x = eval_prediction, \n",
        "                                        data = getData(eval_sets, \"unknown\"), \n",
        "                                        byUser = FALSE) \n",
        "eval_accuracy"
      ],
      "execution_count": 76,
      "outputs": [
        {
          "output_type": "stream",
          "text": [
            "    RMSE      MSE      MAE \n",
            "1.370016 1.876945 1.034645 \n"
          ],
          "name": "stdout"
        }
      ]
    },
    {
      "cell_type": "code",
      "metadata": {
        "id": "1AAzgV8QrXT1",
        "colab": {
          "base_uri": "https://localhost:8080/"
        },
        "outputId": "1a80a154-857e-4962-bed0-339cf76fd757"
      },
      "source": [
        "%%R\n",
        "#evaluating the recommendation system\n",
        "results <- evaluate(x = eval_sets, \n",
        "                    method = model_to_evaluate, \n",
        "                    n = seq(10, 100, 10))\n",
        "head(getConfusionMatrix(results)[[1]])"
      ],
      "execution_count": 77,
      "outputs": [
        {
          "output_type": "stream",
          "text": [
            "IBCF run fold/sample [model time/prediction time]\n",
            "\t 1  [0.23sec/0.023sec] \n",
            "\t 2  [0.236sec/0.023sec] \n",
            "\t 3  [0.216sec/0.022sec] \n",
            "\t 4  [0.219sec/0.023sec] \n",
            "           TP        FP       FN       TN   N precision     recall        TPR\n",
            "[1,] 1.533333  8.066667 73.16190 359.2381 442 0.1599010 0.02133007 0.02133007\n",
            "[2,] 2.895238 16.180952 71.80000 351.1238 442 0.1522798 0.03892414 0.03892414\n",
            "[3,] 4.380952 23.990476 70.31429 343.3143 442 0.1548948 0.05795658 0.05795658\n",
            "[4,] 5.704762 31.657143 68.99048 335.6476 442 0.1529453 0.07490784 0.07490784\n",
            "[5,] 7.161905 38.885714 67.53333 328.4190 442 0.1553648 0.09305041 0.09305041\n",
            "[6,] 8.466667 45.790476 66.22857 321.5143 442 0.1559708 0.10774507 0.10774507\n",
            "            FPR  n\n",
            "[1,] 0.02223484 10\n",
            "[2,] 0.04431380 20\n",
            "[3,] 0.06548322 30\n",
            "[4,] 0.08653325 40\n",
            "[5,] 0.10620395 50\n",
            "[6,] 0.12491303 60\n"
          ],
          "name": "stdout"
        }
      ]
    },
    {
      "cell_type": "code",
      "metadata": {
        "id": "bgJgtJXuuF18",
        "colab": {
          "base_uri": "https://localhost:8080/"
        },
        "outputId": "6e480782-94e2-481e-80ee-8b4395ddfecc"
      },
      "source": [
        "%%R\n",
        "#looking at all the splits at once \n",
        "columns_to_sum <- c(\"TP\", \"FP\", \"FN\", \"TN\")\n",
        "indices_summed <- Reduce(\"+\", getConfusionMatrix(results))[, columns_to_sum]\n",
        "head(indices_summed)"
      ],
      "execution_count": 78,
      "outputs": [
        {
          "output_type": "stream",
          "text": [
            "            TP        FP       FN       TN\n",
            "[1,]  6.838095  32.17143 295.3333 1433.657\n",
            "[2,] 13.371429  64.29524 288.8000 1401.533\n",
            "[3,] 19.523810  96.37143 282.6476 1369.457\n",
            "[4,] 25.447619 127.25714 276.7238 1338.571\n",
            "[5,] 30.971429 156.83810 271.2000 1308.990\n",
            "[6,] 35.857143 184.76190 266.3143 1281.067\n"
          ],
          "name": "stdout"
        }
      ]
    },
    {
      "cell_type": "code",
      "metadata": {
        "id": "zVSnHNH6uXsR",
        "colab": {
          "base_uri": "https://localhost:8080/",
          "height": 977
        },
        "outputId": "1ab2223e-1cab-4c70-8698-04e058b928bb"
      },
      "source": [
        "%%R\n",
        "#plot of the ROC and precision/recall :\n",
        "plot(results, annotate = TRUE, main = \"ROC curve\")\n",
        "plot(results, \"prec/rec\", annotate = TRUE, main = \"Precision-recall\")"
      ],
      "execution_count": 84,
      "outputs": [
        {
          "output_type": "display_data",
          "data": {
            "image/png": "[encoded data removed]"
          },
          "metadata": {
            "tags": []
          }
        },
        {
          "output_type": "display_data",
          "data": {
            "image/png": "[encoded data removed]"
          },
          "metadata": {
            "tags": []
          }
        }
      ]
    },
    {
      "cell_type": "code",
      "metadata": {
        "id": "kV6R2gfjOda3"
      },
      "source": [
        "%%R\n",
        "models_to_evaluate <- list(\n",
        "IBCF_cos = list(name = \"IBCF\", \n",
        "                param = list(method = \"cosine\")),\n",
        "IBCF_cor = list(name = \"IBCF\", \n",
        "                param = list(method = \"pearson\")),\n",
        "UBCF_cos = list(name = \"UBCF\", \n",
        "                param = list(method = \"cosine\")),\n",
        "UBCF_cor = list(name = \"UBCF\", \n",
        "                param = list(method = \"pearson\")),\n",
        "random = list(name = \"RANDOM\", param=NULL)\n",
        ")"
      ],
      "execution_count": 90,
      "outputs": []
    },
    {
      "cell_type": "code",
      "metadata": {
        "id": "r0NVx7D-vYcE",
        "colab": {
          "base_uri": "https://localhost:8080/"
        },
        "outputId": "6f4272cc-8f27-4d8e-a593-81ee21d698d5"
      },
      "source": [
        "%%R\n",
        "#comparing the models with different set of numbers \n",
        "n_recommendations <- c(1, 5, seq(10, 100, 10))\n",
        "list_results <-evaluate(x = eval_sets, method = models_to_evaluate, n = n_recommendations)\n",
        "sapply(list_results, class) == \"evaluationResults\""
      ],
      "execution_count": 91,
      "outputs": [
        {
          "output_type": "stream",
          "text": [
            "IBCF run fold/sample [model time/prediction time]\n",
            "\t 1  [0.214sec/0.023sec] \n",
            "\t 2  [0.225sec/0.037sec] \n",
            "\t 3  [0.224sec/0.022sec] \n",
            "\t 4  [0.218sec/0.023sec] \n",
            "IBCF run fold/sample [model time/prediction time]\n",
            "\t 1  [0.258sec/0.021sec] \n",
            "\t 2  [0.259sec/0.021sec] \n",
            "\t 3  [0.262sec/0.022sec] \n",
            "\t 4  [0.257sec/0.022sec] \n",
            "UBCF run fold/sample [model time/prediction time]\n",
            "\t 1  [0.008sec/0.198sec] \n",
            "\t 2  [0.009sec/0.211sec] \n",
            "\t 3  [0.009sec/0.21sec] \n",
            "\t 4  [0.009sec/0.197sec] \n",
            "UBCF run fold/sample [model time/prediction time]\n",
            "\t 1  "
          ],
          "name": "stdout"
        },
        {
          "output_type": "stream",
          "text": [
            "R[write to console]: Timing stopped at: 0.051 0.001 0.048\n",
            "\n",
            "R[write to console]: Error in h(simpleError(msg, call)) : \n",
            "  error in evaluating the argument 'x' in selecting a method for function 't': not-yet-implemented method for <dgCMatrix> %*% <list>\n",
            "\n"
          ],
          "name": "stderr"
        },
        {
          "output_type": "stream",
          "text": [
            "RANDOM run fold/sample [model time/prediction time]\n",
            "\t 1  [0.002sec/0.067sec] \n",
            "\t 2  [0.002sec/0.041sec] \n",
            "\t 3  [0.002sec/0.046sec] \n",
            "\t 4  [0.002sec/0.051sec] \n",
            "IBCF_cos IBCF_cor UBCF_cos   random \n",
            "    TRUE     TRUE     TRUE     TRUE \n"
          ],
          "name": "stdout"
        }
      ]
    },
    {
      "cell_type": "code",
      "metadata": {
        "id": "NFwpQC6uvouJ",
        "colab": {
          "base_uri": "https://localhost:8080/"
        },
        "outputId": "b3f2036b-2280-4039-9e33-e2708e587435"
      },
      "source": [
        "%%R\n",
        "#first rows of the performance evaluation matrix for the IBCF with Cosine distance:\n",
        "avg_matrices <- lapply(list_results, avg)\n",
        "head(avg_matrices$IBCF_cos[, 5:8])"
      ],
      "execution_count": 92,
      "outputs": [
        {
          "output_type": "stream",
          "text": [
            "       N precision      recall         TPR\n",
            "[1,] 442 0.1802251 0.002525558 0.002525558\n",
            "[2,] 442 0.1705864 0.011397671 0.011397671\n",
            "[3,] 442 0.1751299 0.023671562 0.023671562\n",
            "[4,] 442 0.1720810 0.044386551 0.044386551\n",
            "[5,] 442 0.1684642 0.062960299 0.062960299\n",
            "[6,] 442 0.1667094 0.080659272 0.080659272\n"
          ],
          "name": "stdout"
        }
      ]
    },
    {
      "cell_type": "code",
      "metadata": {
        "id": "ASeb-WG0v1_s",
        "colab": {
          "base_uri": "https://localhost:8080/",
          "height": 977
        },
        "outputId": "4e999d3d-106b-4b49-b6c1-f5d99d5d107f"
      },
      "source": [
        "%%R\n",
        "#identifying the most suitable model\n",
        "plot(list_results, annotate = 1, legend = \"topleft\") \n",
        "title(\"ROC curve\")\n",
        "plot(list_results, \"prec/rec\", annotate = 1, legend = \"bottomright\")\n",
        "title(\"Precision-recall\")"
      ],
      "execution_count": 93,
      "outputs": [
        {
          "output_type": "display_data",
          "data": {
            "image/png": "[encoded data removed]"
          },
          "metadata": {
            "tags": []
          }
        },
        {
          "output_type": "display_data",
          "data": {
            "image/png": "[encoded data removed]"
          },
          "metadata": {
            "tags": []
          }
        }
      ]
    },
    {
      "cell_type": "code",
      "metadata": {
        "id": "UgWFSaaVwHpt"
      },
      "source": [
        "%%R\n",
        "#optimizing the IBCF numeric parameter \n",
        "vector_k <- c(5, 10, 20, 30, 40)\n",
        "models_to_evaluate <- lapply(vector_k, function(k){\n",
        "  list(name = \"IBCF\",\n",
        "       param = list(method = \"cosine\", k = k))\n",
        "})\n",
        "names(models_to_evaluate) <- paste0(\"IBCF_k_\", vector_k)"
      ],
      "execution_count": 94,
      "outputs": []
    },
    {
      "cell_type": "code",
      "metadata": {
        "id": "TSDAT0CTwim0",
        "colab": {
          "base_uri": "https://localhost:8080/"
        },
        "outputId": "ebe98754-f28c-47b6-de1e-f5047b96d1b4"
      },
      "source": [
        "%%R\n",
        "#evaluate the same IBCF/cosine models with different values of the k-closest items:\n",
        "n_recommendations <- c(1, 5, seq(10, 100, 10))\n",
        "list_results <- evaluate(x = eval_sets, \n",
        "                         method = models_to_evaluate, \n",
        "                         n = n_recommendations)"
      ],
      "execution_count": 95,
      "outputs": [
        {
          "output_type": "stream",
          "text": [
            "IBCF run fold/sample [model time/prediction time]\n",
            "\t 1  [0.213sec/0.017sec] \n",
            "\t 2  [0.218sec/0.018sec] \n",
            "\t 3  [0.223sec/0.018sec] \n",
            "\t 4  [0.221sec/0.017sec] \n",
            "IBCF run fold/sample [model time/prediction time]\n",
            "\t 1  [0.218sec/0.018sec] \n",
            "\t 2  [0.221sec/0.018sec] \n",
            "\t 3  [0.228sec/0.019sec] \n",
            "\t 4  [0.225sec/0.017sec] \n",
            "IBCF run fold/sample [model time/prediction time]\n",
            "\t 1  [0.227sec/0.02sec] \n",
            "\t 2  [0.211sec/0.02sec] \n",
            "\t 3  [0.213sec/0.02sec] \n",
            "\t 4  [0.224sec/0.02sec] \n",
            "IBCF run fold/sample [model time/prediction time]\n",
            "\t 1  [0.229sec/0.024sec] \n",
            "\t 2  [0.222sec/0.021sec] \n",
            "\t 3  [0.229sec/0.023sec] \n",
            "\t 4  [0.234sec/0.021sec] \n",
            "IBCF run fold/sample [model time/prediction time]\n",
            "\t 1  [0.224sec/0.027sec] \n",
            "\t 2  [0.243sec/0.024sec] \n",
            "\t 3  [0.219sec/0.025sec] \n",
            "\t 4  [0.239sec/0.024sec] \n"
          ],
          "name": "stdout"
        }
      ]
    },
    {
      "cell_type": "code",
      "metadata": {
        "id": "7TVmZbWTxDDi",
        "colab": {
          "base_uri": "https://localhost:8080/",
          "height": 977
        },
        "outputId": "a5042fb1-d945-4571-fc2f-0f0256b3bcb9"
      },
      "source": [
        "%%R\n",
        "#ROC and precision/recall plot \n",
        "plot(list_results, annotate = 1, legend = \"topleft\") \n",
        "title(\"ROC curve\")\n",
        "plot(list_results, \"prec/rec\", annotate = 1, legend = \"bottomright\")\n",
        "title(\"Precision-recall\")"
      ],
      "execution_count": 96,
      "outputs": [
        {
          "output_type": "display_data",
          "data": {
            "image/png": "[encoded data removed]"
          },
          "metadata": {
            "tags": []
          }
        },
        {
          "output_type": "display_data",
          "data": {
            "image/png": "[encoded data removed]"
          },
          "metadata": {
            "tags": []
          }
        }
      ]
    }
  ]
}